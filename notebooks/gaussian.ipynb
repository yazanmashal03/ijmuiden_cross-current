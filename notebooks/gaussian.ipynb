{
 "cells": [
  {
   "cell_type": "markdown",
   "metadata": {},
   "source": [
    "# Spatiotemporal Prediction of Tidal Currents Using Gaussian Processes\n",
    "\n",
    "This notebook implements a Bayesian Gaussian Process (GP) model following Sarkar et al. (2019) for predicting cross-currents from four research datasets. We:\n",
    "1. Load and preprocess data\n",
    "2. Define and train a spatiotemporal GP model\n",
    "3. Evaluate predictions and visualize results"
   ]
  },
  {
   "cell_type": "code",
   "execution_count": 35,
   "metadata": {},
   "outputs": [],
   "source": [
    "# System & data handling\n",
    "import os\n",
    "import pandas as pd\n",
    "import numpy as np\n",
    "\n",
    "# Visualization\n",
    "import matplotlib.pyplot as plt\n",
    "import seaborn as sns\n",
    "sns.set(style='whitegrid')\n",
    "\n",
    "# Sklearn utilities\n",
    "from sklearn.metrics import mean_squared_error, mean_absolute_error, r2_score\n",
    "\n",
    "# GP modeling with GPyTorch\n",
    "import torch\n",
    "import gpytorch\n",
    "\n",
    "# For geospatial operations\n",
    "from sklearn.metrics import mean_squared_error"
   ]
  },
  {
   "cell_type": "code",
   "execution_count": 36,
   "metadata": {},
   "outputs": [],
   "source": [
    "data_dir = '../data/processed'\n",
    "csv_files = {\n",
    "    'water_height': os.path.join(data_dir, 'water_height_processed.csv'),\n",
    "    'wind_direction': os.path.join(data_dir, 'wind_direction_processed.csv'),\n",
    "    'flow_rate': os.path.join(data_dir, 'flow_rate_processed.csv'),\n",
    "    'current_direction': os.path.join(data_dir, 'current_direction_processed.csv'),\n",
    "}\n"
   ]
  },
  {
   "cell_type": "code",
   "execution_count": 37,
   "metadata": {},
   "outputs": [],
   "source": [
    "# Columns to keep from each csv\n",
    "cols = ['datetime_unix','NUMERIEKEWAARDE', 'X', 'Y']\n",
    "\n",
    "# Load CSVs\n",
    "dfs = {name: pd.read_csv(path, usecols=cols) for name, path in csv_files.items()}"
   ]
  },
  {
   "cell_type": "code",
   "execution_count": 38,
   "metadata": {},
   "outputs": [],
   "source": [
    "# Merge into single DataFrame for modeling\n",
    "df_all = pd.DataFrame()\n",
    "df_all['water_height'] = dfs['water_height']['NUMERIEKEWAARDE']\n",
    "df_all['wind_direction'] = dfs['wind_direction']['NUMERIEKEWAARDE']\n",
    "df_all['flow_rate'] = dfs['flow_rate']['NUMERIEKEWAARDE']\n",
    "df_all['current_direction'] = dfs['current_direction']['NUMERIEKEWAARDE']\n",
    "df_all['X'] = dfs['water_height']['X']\n",
    "df_all['Y'] = dfs['water_height']['Y']\n",
    "df_all['datetime_unix'] = dfs['water_height']['datetime_unix']\n",
    "df_all = df_all.dropna()\n"
   ]
  },
  {
   "cell_type": "code",
   "execution_count": 39,
   "metadata": {},
   "outputs": [
    {
     "name": "stdout",
     "output_type": "stream",
     "text": [
      "       water_height  wind_direction     flow_rate  current_direction\n",
      "count  26171.000000    2.617100e+04  26171.000000       26171.000000\n",
      "mean      -0.092450    2.932200e-16     -0.000944           0.000238\n",
      "std        0.992945    1.000000e+00      0.999800           1.000116\n",
      "min       -1.775431   -1.670827e+00     -3.262918          -0.666535\n",
      "25%       -0.975624   -8.344454e-01     -0.691011          -0.661498\n",
      "50%       -0.229138    1.215567e-01     -0.111420          -0.656109\n",
      "75%        0.748404    7.138728e-01      0.592280           1.221579\n",
      "max        2.188056    1.801072e+00      4.019032           2.951847\n"
     ]
    }
   ],
   "source": [
    "# Summary stats\n",
    "print(df_all[['water_height','wind_direction', 'flow_rate', 'current_direction']].describe())\n"
   ]
  },
  {
   "cell_type": "code",
   "execution_count": 40,
   "metadata": {},
   "outputs": [
    {
     "name": "stdout",
     "output_type": "stream",
     "text": [
      "Feature matrix shape: (26171, 4)\n",
      "Target matrix shape: (26171, 1)\n"
     ]
    }
   ],
   "source": [
    "# Features & target\n",
    "y_direction = df_all['current_direction'].values\n",
    "y = np.column_stack([y_direction])\n",
    "\n",
    "X_feat = df_all[['wind_direction','water_height', 'flow_rate']].values\n",
    "\n",
    "timestamps = df_all['datetime_unix']\n",
    "timestamps = (timestamps - timestamps.min()) / (timestamps.max() - timestamps.min())\n",
    "temporal_features = timestamps.to_numpy().reshape(-1, 1)\n",
    "\n",
    "# Combine spatial + temporal + predictors\n",
    "X = np.hstack([X_feat, timestamps.values.reshape(-1,1)])\n",
    "\n",
    "print(f\"Feature matrix shape: {X.shape}\")\n",
    "print(f\"Target matrix shape: {y.shape}\")\n",
    "\n",
    "# Chronological split\n",
    "train_cut = int(0.20*len(df_all))\n",
    "X_train, X_test = X[:train_cut], X[train_cut:]\n",
    "y_train, y_test = y[:train_cut], y[train_cut:]"
   ]
  },
  {
   "cell_type": "code",
   "execution_count": 41,
   "metadata": {},
   "outputs": [
    {
     "name": "stdout",
     "output_type": "stream",
     "text": [
      "df_all shape: (26171, 7)\n",
      "df_all columns: ['water_height', 'wind_direction', 'flow_rate', 'current_direction', 'X', 'Y', 'datetime_unix']\n",
      "flow_rate column exists: True\n",
      "flow_direction column exists: False\n",
      "flow_rate non-null count: 26171\n",
      "flow_rate sample values: 0   -0.594344\n",
      "1   -0.295333\n",
      "2    0.054879\n",
      "3    0.606616\n",
      "4    1.273453\n",
      "Name: flow_rate, dtype: float64\n",
      "y_direction shape: (26171,)\n",
      "y shape after column_stack: (26171, 1)\n",
      "NaN values in y_direction: 0\n",
      "NaN values in y: 0\n",
      "y_train shape: (5234, 1)\n",
      "y_train columns: 1\n"
     ]
    }
   ],
   "source": [
    "# Check your data loading\n",
    "print(f\"df_all shape: {df_all.shape}\")\n",
    "print(f\"df_all columns: {df_all.columns.tolist()}\")\n",
    "\n",
    "# Check if the columns exist and have data\n",
    "print(f\"flow_rate column exists: {'flow_rate' in df_all.columns}\")\n",
    "print(f\"flow_direction column exists: {'flow_direction' in df_all.columns}\")\n",
    "\n",
    "if 'flow_rate' in df_all.columns:\n",
    "    print(f\"flow_rate non-null count: {df_all['flow_rate'].notna().sum()}\")\n",
    "    print(f\"flow_rate sample values: {df_all['flow_rate'].head()}\")\n",
    "\n",
    "if 'flow_direction' in df_all.columns:\n",
    "    print(f\"flow_direction non-null count: {df_all['flow_direction'].notna().sum()}\")\n",
    "    print(f\"flow_direction sample values: {df_all['flow_direction'].head()}\")\n",
    "\n",
    "# Check the y array after creation\n",
    "print(f\"y_direction shape: {y_direction.shape}\")\n",
    "print(f\"y shape after column_stack: {y.shape}\")\n",
    "\n",
    "# Check for NaN values\n",
    "print(f\"NaN values in y_direction: {np.isnan(y_direction).sum()}\")\n",
    "print(f\"NaN values in y: {np.isnan(y).sum()}\")\n",
    "\n",
    "# Check the train split\n",
    "print(f\"y_train shape: {y_train.shape}\")\n",
    "print(f\"y_train columns: {y_train.shape[1] if len(y_train.shape) > 1 else '1D'}\")"
   ]
  },
  {
   "cell_type": "code",
   "execution_count": 42,
   "metadata": {},
   "outputs": [],
   "source": [
    "class SpatioTemporalGP(gpytorch.models.ExactGP):\n",
    "    def __init__(self, train_x, train_y, likelihood):\n",
    "        super().__init__(train_x, train_y, likelihood)\n",
    "        self.mean_module = gpytorch.means.ConstantMean()\n",
    "        \n",
    "        kern_feat = gpytorch.kernels.ScaleKernel(\n",
    "            gpytorch.kernels.RBFKernel(active_dims=list(range(3)))\n",
    "        )\n",
    "        kern_time = gpytorch.kernels.ScaleKernel(\n",
    "            gpytorch.kernels.MaternKernel(nu=1.5, active_dims=[3])\n",
    "        )\n",
    "        self.covar_module = kern_feat * kern_time\n",
    "\n",
    "    def forward(self, x):\n",
    "        mean = self.mean_module(x)\n",
    "        covar = self.covar_module(x)\n",
    "        return gpytorch.distributions.MultivariateNormal(mean, covar)\n",
    "\n",
    "# Train separate models for each output\n",
    "def train_gp_model(X_train, y_train, epochs=50):\n",
    "    likelihood = gpytorch.likelihoods.GaussianLikelihood()\n",
    "    train_x_tensor = torch.tensor(X_train).float()\n",
    "    train_y_tensor = torch.tensor(y_train).float()\n",
    "    model = SpatioTemporalGP(train_x_tensor, train_y_tensor, likelihood)\n",
    "    \n",
    "    if torch.cuda.is_available():\n",
    "        device = torch.device('cuda')\n",
    "        model = model.to(device)\n",
    "        likelihood = likelihood.to(device)\n",
    "        train_x_tensor = train_x_tensor.to(device)\n",
    "        train_y_tensor = train_y_tensor.to(device)\n",
    "    else:\n",
    "        device = torch.device('cpu')\n",
    "    \n",
    "    model.train()\n",
    "    likelihood.train()\n",
    "    optimizer = torch.optim.Adam(model.parameters(), lr=0.5)\n",
    "    mll = gpytorch.mlls.ExactMarginalLogLikelihood(likelihood, model)\n",
    "    \n",
    "    for i in range(1, epochs+1):\n",
    "        optimizer.zero_grad()\n",
    "        output = model(train_x_tensor)\n",
    "        loss = -mll(output, train_y_tensor)\n",
    "        loss.backward()\n",
    "        optimizer.step()\n",
    "        if i % 10 == 0 or i == 1:\n",
    "            print(f\"Iter {i}/{epochs} - Loss: {loss.item():.3f}\")\n",
    "    \n",
    "    return model, likelihood"
   ]
  },
  {
   "cell_type": "code",
   "execution_count": 43,
   "metadata": {},
   "outputs": [
    {
     "name": "stdout",
     "output_type": "stream",
     "text": [
      "Training water direction model...\n",
      "Iter 1/50 - Loss: 1.633\n",
      "Iter 10/50 - Loss: 1.535\n",
      "Iter 20/50 - Loss: 1.516\n",
      "Iter 30/50 - Loss: 1.513\n",
      "Iter 40/50 - Loss: 1.512\n",
      "Iter 50/50 - Loss: 1.513\n"
     ]
    }
   ],
   "source": [
    "# Train models\n",
    "print(\"Training water direction model...\")\n",
    "model_direction, likelihood_direction = train_gp_model(X_train, y_train.flatten())\n",
    "\n",
    "# Predictions\n",
    "def predict_gp(model, likelihood, X_test):\n",
    "    model.eval()\n",
    "    likelihood.eval()\n",
    "    with torch.no_grad(), gpytorch.settings.fast_pred_var():\n",
    "        test_x_tensor = torch.tensor(X_test).float()\n",
    "        pred = likelihood(model(test_x_tensor))\n",
    "        return pred.mean.numpy()\n",
    "\n",
    "pred_direction = predict_gp(model_direction, likelihood_direction, X_test)"
   ]
  },
  {
   "cell_type": "code",
   "execution_count": 44,
   "metadata": {},
   "outputs": [
    {
     "name": "stdout",
     "output_type": "stream",
     "text": [
      "\n",
      "Water Direction:\n",
      "  RMSE: 0.9694\n",
      "  MAE:  0.8881\n",
      "  R²:   -0.0104\n"
     ]
    }
   ],
   "source": [
    "# Calculate metrics for water direction\n",
    "rmse_direction = np.sqrt(mean_squared_error(y_test, pred_direction))\n",
    "mae_direction = mean_absolute_error(y_test, pred_direction)\n",
    "r2_direction = r2_score(y_test, pred_direction)\n",
    "\n",
    "print(f\"\\nWater Direction:\")\n",
    "print(f\"  RMSE: {rmse_direction:.4f}\")\n",
    "print(f\"  MAE:  {mae_direction:.4f}\")\n",
    "print(f\"  R²:   {r2_direction:.4f}\")"
   ]
  },
  {
   "cell_type": "code",
   "execution_count": 45,
   "metadata": {},
   "outputs": [
    {
     "data": {
      "image/png": "[encoded data removed]",
      "text/plain": [
       "<Figure size 1000x500 with 1 Axes>"
      ]
     },
     "metadata": {},
     "output_type": "display_data"
    }
   ],
   "source": [
    "# Get prediction uncertainties\n",
    "def predict_with_uncertainty(model, likelihood, X_test):\n",
    "    model.eval()\n",
    "    likelihood.eval()\n",
    "    with torch.no_grad(), gpytorch.settings.fast_pred_var():\n",
    "        test_x_tensor = torch.tensor(X_test).float()\n",
    "        pred = likelihood(model(test_x_tensor))\n",
    "        mean = pred.mean.numpy()\n",
    "        std = pred.stddev.numpy()\n",
    "        return mean, std\n",
    "\n",
    "# Get predictions with uncertainty\n",
    "mean_direction, std_direction = predict_with_uncertainty(model_direction, likelihood_direction, X_test)\n",
    "\n",
    "# Plot with confidence intervals\n",
    "fig = plt.figure(figsize=(10, 5))\n",
    "time_indices = range(len(y_test))\n",
    "\n",
    "# Water Direction with confidence intervals\n",
    "plt.plot(time_indices, y_test, 'b-', label='Actual', alpha=0.7, linewidth=1)\n",
    "plt.plot(time_indices, mean_direction, 'r-', label='Predicted', alpha=0.7, linewidth=1)\n",
    "plt.fill_between(time_indices, \n",
    "                     mean_direction - 2*std_direction, \n",
    "                     mean_direction + 2*std_direction, \n",
    "                     alpha=0.3, color='red', label='95% Confidence')\n",
    "plt.xlabel('Time Index')\n",
    "plt.ylabel('Water Direction')\n",
    "plt.title('Water Direction: Predictions with Uncertainty')\n",
    "plt.legend()\n",
    "plt.grid(True, alpha=0.3)\n",
    "\n",
    "plt.tight_layout()\n",
    "plt.show()"
   ]
  },
  {
   "cell_type": "code",
   "execution_count": 46,
   "metadata": {},
   "outputs": [
    {
     "name": "stdout",
     "output_type": "stream",
     "text": [
      "=== DETAILED MODEL ANALYSIS ===\n",
      "\n",
      "Water Direction Model:\n",
      "  RMSE: 0.9694\n",
      "  MAE:  0.8881\n",
      "  R²:   -0.0104\n",
      "  Mean prediction uncertainty: 1.1215\n",
      "  Actual range: [-0.6665, 2.9518]\n",
      "  Predicted range: [-0.0908, 0.2438]\n",
      "\n",
      "=== MODEL ASSESSMENT ===\n",
      "✗ Poor model performance (R² < 0.3)\n",
      "Average R²: -0.0104\n"
     ]
    }
   ],
   "source": [
    "# Summary statistics\n",
    "print(\"=== DETAILED MODEL ANALYSIS ===\")\n",
    "\n",
    "print(f\"\\nWater Direction Model:\")\n",
    "print(f\"  RMSE: {rmse_direction:.4f}\")\n",
    "print(f\"  MAE:  {mae_direction:.4f}\")\n",
    "print(f\"  R²:   {r2_direction:.4f}\")\n",
    "print(f\"  Mean prediction uncertainty: {np.mean(std_direction):.4f}\")\n",
    "print(f\"  Actual range: [{y_test.min():.4f}, {y_test.max():.4f}]\")\n",
    "print(f\"  Predicted range: [{pred_direction.min():.4f}, {pred_direction.max():.4f}]\")\n",
    "\n",
    "# Overall model assessment\n",
    "print(f\"\\n=== MODEL ASSESSMENT ===\")\n",
    "if r2_direction > 0.7:\n",
    "    print(\"✓ Excellent model performance (R² > 0.7)\")\n",
    "elif r2_direction > 0.5:\n",
    "    print(\"✓ Good model performance (R² > 0.5)\")\n",
    "elif r2_direction > 0.3:\n",
    "    print(\"~ Moderate model performance (R² > 0.3)\")\n",
    "else:\n",
    "    print(\"✗ Poor model performance (R² < 0.3)\")\n",
    "\n",
    "print(f\"Average R²: {r2_direction:.4f}\")"
   ]
  },
  {
   "cell_type": "code",
   "execution_count": null,
   "metadata": {},
   "outputs": [],
   "source": []
  }
 ],
 "metadata": {
  "kernelspec": {
   "display_name": "ijmuiden-crosscurrent",
   "language": "python",
   "name": "python3"
  },
  "language_info": {
   "codemirror_mode": {
    "name": "ipython",
    "version": 3
   },
   "file_extension": ".py",
   "mimetype": "text/x-python",
   "name": "python",
   "nbconvert_exporter": "python",
   "pygments_lexer": "ipython3",
   "version": "3.9.23"
  }
 },
 "nbformat": 4,
 "nbformat_minor": 2
}
